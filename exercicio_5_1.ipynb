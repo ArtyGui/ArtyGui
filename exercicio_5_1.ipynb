{
  "cells": [
    {
      "cell_type": "markdown",
      "metadata": {
        "id": "view-in-github",
        "colab_type": "text"
      },
      "source": [
        "<a href=\"https://colab.research.google.com/github/ArtyGui/ArtyGui/blob/main/exercicio_5_1.ipynb\" target=\"_parent\"><img src=\"https://colab.research.google.com/assets/colab-badge.svg\" alt=\"Open In Colab\"/></a>"
      ]
    },
    {
      "cell_type": "code",
      "execution_count": null,
      "id": "5ab091be",
      "metadata": {
        "id": "5ab091be",
        "outputId": "29c83263-e360-457c-aa2a-8e38b3e94d10"
      },
      "outputs": [
        {
          "ename": "SyntaxError",
          "evalue": "invalid syntax (Temp/ipykernel_3700/352314613.py, line 1)",
          "output_type": "error",
          "traceback": [
            "\u001b[1;36m  File \u001b[1;32m\"C:\\Users\\aluno22\\AppData\\Local\\Temp/ipykernel_3700/352314613.py\"\u001b[1;36m, line \u001b[1;32m1\u001b[0m\n\u001b[1;33m    //somar 10 + 20 x 30\u001b[0m\n\u001b[1;37m    ^\u001b[0m\n\u001b[1;31mSyntaxError\u001b[0m\u001b[1;31m:\u001b[0m invalid syntax\n"
          ]
        }
      ],
      "source": [
        "//somar 10 + 20 x 30\n",
        "print(10+20 * 30)"
      ]
    },
    {
      "cell_type": "code",
      "execution_count": null,
      "id": "955e9517",
      "metadata": {
        "id": "955e9517",
        "outputId": "fe5c8fdb-6658-4191-8475-bb50347ae09a"
      },
      "outputs": [
        {
          "name": "stdout",
          "output_type": "stream",
          "text": [
            "610\n"
          ]
        }
      ],
      "source": [
        "#somar 10 + 20 x 30\n",
        "print(10+20 * 30)"
      ]
    },
    {
      "cell_type": "code",
      "execution_count": null,
      "id": "ecf1ea65",
      "metadata": {
        "id": "ecf1ea65",
        "outputId": "021bc2bb-7b34-4830-8286-fcb1bd2c4cb3"
      },
      "outputs": [
        {
          "name": "stdout",
          "output_type": "stream",
          "text": [
            "610\n",
            "1.4\n"
          ]
        }
      ],
      "source": [
        "#somar 10 + 20 x 30\n",
        "#dividir 42/30\n",
        "print(10+20 * 30)\n",
        "print(42/30)"
      ]
    },
    {
      "cell_type": "code",
      "execution_count": null,
      "id": "c38762be",
      "metadata": {
        "id": "c38762be",
        "outputId": "98773c07-e1cb-49b5-c4a7-53325be59535"
      },
      "outputs": [
        {
          "name": "stdout",
          "output_type": "stream",
          "text": [
            "610\n",
            "1.4\n",
            "575\n"
          ]
        }
      ],
      "source": [
        "#somar 10 + 20 x 30\n",
        "#dividir 42/30\n",
        "#soma entre parênteses e multiplicação e depois subtração\n",
        "\n",
        "print(10+20 * 30)\n",
        "print(42/30)\n",
        "print((94+2)*6-1)"
      ]
    },
    {
      "cell_type": "code",
      "execution_count": null,
      "id": "6bd741fd",
      "metadata": {
        "id": "6bd741fd",
        "outputId": "d2f48000-540b-4063-e9b3-c40b2191f17f"
      },
      "outputs": [
        {
          "name": "stdout",
          "output_type": "stream",
          "text": [
            "610\n",
            "1.4\n",
            "575\n",
            "107\n"
          ]
        }
      ],
      "source": [
        "#somar 10 + 20 x 30\n",
        "#dividir 42/30\n",
        "#soma entre parênteses e multiplicação e depois subtração\n",
        "#multiplicação entre parênteses com a subtração por 1\n",
        "\n",
        "print(10+20 * 30)\n",
        "print(42/30)\n",
        "print((94+2)*6-1)\n",
        "print((10+8)*(10-4)-1)"
      ]
    },
    {
      "cell_type": "code",
      "execution_count": null,
      "id": "80b13027",
      "metadata": {
        "id": "80b13027",
        "outputId": "30d0081e-e855-4f8f-b4a3-a49b0ab21d70"
      },
      "outputs": [
        {
          "name": "stdout",
          "output_type": "stream",
          "text": [
            "610\n",
            "1.4\n",
            "575\n",
            "107\n"
          ]
        },
        {
          "ename": "TypeError",
          "evalue": "unsupported operand type(s) for ^: 'float' and 'int'",
          "output_type": "error",
          "traceback": [
            "\u001b[1;31m---------------------------------------------------------------------------\u001b[0m",
            "\u001b[1;31mTypeError\u001b[0m                                 Traceback (most recent call last)",
            "\u001b[1;32m~\\AppData\\Local\\Temp/ipykernel_3700/2239213273.py\u001b[0m in \u001b[0;36m<module>\u001b[1;34m\u001b[0m\n\u001b[0;32m      9\u001b[0m \u001b[0mprint\u001b[0m\u001b[1;33m(\u001b[0m\u001b[1;33m(\u001b[0m\u001b[1;36m94\u001b[0m\u001b[1;33m+\u001b[0m\u001b[1;36m2\u001b[0m\u001b[1;33m)\u001b[0m\u001b[1;33m*\u001b[0m\u001b[1;36m6\u001b[0m\u001b[1;33m-\u001b[0m\u001b[1;36m1\u001b[0m\u001b[1;33m)\u001b[0m\u001b[1;33m\u001b[0m\u001b[1;33m\u001b[0m\u001b[0m\n\u001b[0;32m     10\u001b[0m \u001b[0mprint\u001b[0m\u001b[1;33m(\u001b[0m\u001b[1;33m(\u001b[0m\u001b[1;36m10\u001b[0m\u001b[1;33m+\u001b[0m\u001b[1;36m8\u001b[0m\u001b[1;33m)\u001b[0m\u001b[1;33m*\u001b[0m\u001b[1;33m(\u001b[0m\u001b[1;36m10\u001b[0m\u001b[1;33m-\u001b[0m\u001b[1;36m4\u001b[0m\u001b[1;33m)\u001b[0m\u001b[1;33m-\u001b[0m\u001b[1;36m1\u001b[0m\u001b[1;33m)\u001b[0m\u001b[1;33m\u001b[0m\u001b[1;33m\u001b[0m\u001b[0m\n\u001b[1;32m---> 11\u001b[1;33m \u001b[0mprint\u001b[0m\u001b[1;33m(\u001b[0m\u001b[1;33m(\u001b[0m\u001b[1;33m(\u001b[0m\u001b[1;36m1500\u001b[0m\u001b[1;33m+\u001b[0m\u001b[1;33m(\u001b[0m\u001b[1;36m100\u001b[0m\u001b[1;33m-\u001b[0m\u001b[1;36m9\u001b[0m\u001b[1;33m)\u001b[0m\u001b[1;33m/\u001b[0m\u001b[1;36m10\u001b[0m\u001b[1;33m)\u001b[0m\u001b[1;33m*\u001b[0m\u001b[1;36m9\u001b[0m\u001b[1;33m)\u001b[0m\u001b[1;33m^\u001b[0m\u001b[1;36m3\u001b[0m\u001b[1;33m)\u001b[0m\u001b[1;33m\u001b[0m\u001b[1;33m\u001b[0m\u001b[0m\n\u001b[0m",
            "\u001b[1;31mTypeError\u001b[0m: unsupported operand type(s) for ^: 'float' and 'int'"
          ]
        }
      ],
      "source": [
        "#somar 10 + 20 x 30\n",
        "#dividir 42/30\n",
        "#soma entre parênteses e multiplicação e depois subtração\n",
        "#multiplicação entre parênteses com a subtração por 1\n",
        "#subtração com resultado sendo dividido por 10 e sendo somado com 1500 e multiplicado com 9 e sendo elevado ao cubo\n",
        "\n",
        "print(10+20 * 30)\n",
        "print(42/30)\n",
        "print((94+2)*6-1)\n",
        "print((10+8)*(10-4)-1)\n",
        "print(((1500+(100-9)/10)*9)^3)"
      ]
    },
    {
      "cell_type": "code",
      "execution_count": null,
      "id": "8eef3a9e",
      "metadata": {
        "id": "8eef3a9e",
        "outputId": "3bae0bbb-6efc-4f7a-c7d9-51987506067f"
      },
      "outputs": [
        {
          "name": "stdout",
          "output_type": "stream",
          "text": [
            "610\n",
            "1.4\n",
            "575\n",
            "107\n"
          ]
        },
        {
          "ename": "TypeError",
          "evalue": "unsupported operand type(s) for ^: 'float' and 'int'",
          "output_type": "error",
          "traceback": [
            "\u001b[1;31m---------------------------------------------------------------------------\u001b[0m",
            "\u001b[1;31mTypeError\u001b[0m                                 Traceback (most recent call last)",
            "\u001b[1;32m~\\AppData\\Local\\Temp/ipykernel_3700/2229218575.py\u001b[0m in \u001b[0;36m<module>\u001b[1;34m\u001b[0m\n\u001b[0;32m      9\u001b[0m \u001b[0mprint\u001b[0m\u001b[1;33m(\u001b[0m\u001b[1;33m(\u001b[0m\u001b[1;36m94\u001b[0m\u001b[1;33m+\u001b[0m\u001b[1;36m2\u001b[0m\u001b[1;33m)\u001b[0m\u001b[1;33m*\u001b[0m\u001b[1;36m6\u001b[0m\u001b[1;33m-\u001b[0m\u001b[1;36m1\u001b[0m\u001b[1;33m)\u001b[0m\u001b[1;33m\u001b[0m\u001b[1;33m\u001b[0m\u001b[0m\n\u001b[0;32m     10\u001b[0m \u001b[0mprint\u001b[0m\u001b[1;33m(\u001b[0m\u001b[1;33m(\u001b[0m\u001b[1;36m10\u001b[0m\u001b[1;33m+\u001b[0m\u001b[1;36m8\u001b[0m\u001b[1;33m)\u001b[0m\u001b[1;33m*\u001b[0m\u001b[1;33m(\u001b[0m\u001b[1;36m10\u001b[0m\u001b[1;33m-\u001b[0m\u001b[1;36m4\u001b[0m\u001b[1;33m)\u001b[0m\u001b[1;33m-\u001b[0m\u001b[1;36m1\u001b[0m\u001b[1;33m)\u001b[0m\u001b[1;33m\u001b[0m\u001b[1;33m\u001b[0m\u001b[0m\n\u001b[1;32m---> 11\u001b[1;33m \u001b[0mprint\u001b[0m \u001b[1;33m(\u001b[0m\u001b[1;33m(\u001b[0m\u001b[1;33m(\u001b[0m\u001b[1;36m1500\u001b[0m \u001b[1;33m+\u001b[0m \u001b[1;33m(\u001b[0m\u001b[1;33m(\u001b[0m\u001b[1;36m100\u001b[0m\u001b[1;33m-\u001b[0m\u001b[1;36m9\u001b[0m\u001b[1;33m)\u001b[0m\u001b[1;33m/\u001b[0m\u001b[1;36m10\u001b[0m\u001b[1;33m)\u001b[0m\u001b[1;33m)\u001b[0m\u001b[1;33m*\u001b[0m\u001b[1;36m9\u001b[0m\u001b[1;33m)\u001b[0m\u001b[1;33m^\u001b[0m\u001b[1;36m3\u001b[0m\u001b[1;33m)\u001b[0m\u001b[1;33m\u001b[0m\u001b[1;33m\u001b[0m\u001b[0m\n\u001b[0m",
            "\u001b[1;31mTypeError\u001b[0m: unsupported operand type(s) for ^: 'float' and 'int'"
          ]
        }
      ],
      "source": [
        "#somar 10 + 20 x 30\n",
        "#dividir 42/30\n",
        "#soma entre parênteses e multiplicação e depois subtração\n",
        "#multiplicação entre parênteses com a subtração por 1\n",
        "#subtração com resultado sendo dividido por 10 e sendo somado com 1500 e multiplicado com 9 e sendo elevado ao cubo\n",
        "\n",
        "print(10+20 * 30)\n",
        "print(42/30)\n",
        "print((94+2)*6-1)\n",
        "print((10+8)*(10-4)-1)\n",
        "print (((1500 + ((100-9)/10))*9)^3)"
      ]
    },
    {
      "cell_type": "code",
      "execution_count": null,
      "id": "c44688f2",
      "metadata": {
        "id": "c44688f2",
        "outputId": "3d979900-8470-4643-a2f4-c5ed1940d986"
      },
      "outputs": [
        {
          "name": "stdout",
          "output_type": "stream",
          "text": [
            "610\n",
            "1.4\n",
            "575\n",
            "107\n",
            "13581.9\n"
          ]
        },
        {
          "ename": "TypeError",
          "evalue": "unsupported operand type(s) for ^: 'NoneType' and 'int'",
          "output_type": "error",
          "traceback": [
            "\u001b[1;31m---------------------------------------------------------------------------\u001b[0m",
            "\u001b[1;31mTypeError\u001b[0m                                 Traceback (most recent call last)",
            "\u001b[1;32m~\\AppData\\Local\\Temp/ipykernel_3700/2554431656.py\u001b[0m in \u001b[0;36m<module>\u001b[1;34m\u001b[0m\n\u001b[0;32m      9\u001b[0m \u001b[0mprint\u001b[0m\u001b[1;33m(\u001b[0m\u001b[1;33m(\u001b[0m\u001b[1;36m94\u001b[0m\u001b[1;33m+\u001b[0m\u001b[1;36m2\u001b[0m\u001b[1;33m)\u001b[0m\u001b[1;33m*\u001b[0m\u001b[1;36m6\u001b[0m\u001b[1;33m-\u001b[0m\u001b[1;36m1\u001b[0m\u001b[1;33m)\u001b[0m\u001b[1;33m\u001b[0m\u001b[1;33m\u001b[0m\u001b[0m\n\u001b[0;32m     10\u001b[0m \u001b[0mprint\u001b[0m\u001b[1;33m(\u001b[0m\u001b[1;33m(\u001b[0m\u001b[1;36m10\u001b[0m\u001b[1;33m+\u001b[0m\u001b[1;36m8\u001b[0m\u001b[1;33m)\u001b[0m\u001b[1;33m*\u001b[0m\u001b[1;33m(\u001b[0m\u001b[1;36m10\u001b[0m\u001b[1;33m-\u001b[0m\u001b[1;36m4\u001b[0m\u001b[1;33m)\u001b[0m\u001b[1;33m-\u001b[0m\u001b[1;36m1\u001b[0m\u001b[1;33m)\u001b[0m\u001b[1;33m\u001b[0m\u001b[1;33m\u001b[0m\u001b[0m\n\u001b[1;32m---> 11\u001b[1;33m \u001b[0mprint\u001b[0m\u001b[1;33m(\u001b[0m\u001b[1;33m(\u001b[0m\u001b[1;33m(\u001b[0m\u001b[1;36m1500\u001b[0m\u001b[1;33m+\u001b[0m\u001b[1;33m(\u001b[0m\u001b[1;36m100\u001b[0m\u001b[1;33m-\u001b[0m\u001b[1;36m9\u001b[0m\u001b[1;33m)\u001b[0m\u001b[1;33m/\u001b[0m\u001b[1;36m10\u001b[0m\u001b[1;33m)\u001b[0m\u001b[1;33m*\u001b[0m\u001b[1;36m9\u001b[0m\u001b[1;33m)\u001b[0m\u001b[1;33m)\u001b[0m\u001b[1;33m^\u001b[0m\u001b[1;36m3\u001b[0m\u001b[1;33m\u001b[0m\u001b[1;33m\u001b[0m\u001b[0m\n\u001b[0m",
            "\u001b[1;31mTypeError\u001b[0m: unsupported operand type(s) for ^: 'NoneType' and 'int'"
          ]
        }
      ],
      "source": [
        "#somar 10 + 20 x 30\n",
        "#dividir 42/30\n",
        "#soma entre parênteses e multiplicação e depois subtração\n",
        "#multiplicação entre parênteses com a subtração por 1\n",
        "#subtração com resultado sendo dividido por 10 e sendo somado com 1500 e multiplicado com 9 e sendo elevado ao cubo\n",
        "\n",
        "print(10+20 * 30)\n",
        "print(42/30)\n",
        "print((94+2)*6-1)\n",
        "print((10+8)*(10-4)-1)\n",
        "print(((1500+(100-9)/10)*9))^3"
      ]
    },
    {
      "cell_type": "code",
      "execution_count": null,
      "id": "733e3aab",
      "metadata": {
        "scrolled": true,
        "id": "733e3aab",
        "outputId": "370f34f6-6a34-4973-820b-e785a3079368"
      },
      "outputs": [
        {
          "name": "stdout",
          "output_type": "stream",
          "text": [
            "610\n",
            "1.4\n",
            "575\n",
            "107\n"
          ]
        },
        {
          "ename": "TypeError",
          "evalue": "unsupported operand type(s) for ^: 'float' and 'int'",
          "output_type": "error",
          "traceback": [
            "\u001b[1;31m---------------------------------------------------------------------------\u001b[0m",
            "\u001b[1;31mTypeError\u001b[0m                                 Traceback (most recent call last)",
            "\u001b[1;32m~\\AppData\\Local\\Temp/ipykernel_3700/1923145023.py\u001b[0m in \u001b[0;36m<module>\u001b[1;34m\u001b[0m\n\u001b[0;32m      9\u001b[0m \u001b[0mprint\u001b[0m\u001b[1;33m(\u001b[0m\u001b[1;33m(\u001b[0m\u001b[1;36m94\u001b[0m\u001b[1;33m+\u001b[0m\u001b[1;36m2\u001b[0m\u001b[1;33m)\u001b[0m\u001b[1;33m*\u001b[0m\u001b[1;36m6\u001b[0m\u001b[1;33m-\u001b[0m\u001b[1;36m1\u001b[0m\u001b[1;33m)\u001b[0m\u001b[1;33m\u001b[0m\u001b[1;33m\u001b[0m\u001b[0m\n\u001b[0;32m     10\u001b[0m \u001b[0mprint\u001b[0m\u001b[1;33m(\u001b[0m\u001b[1;33m(\u001b[0m\u001b[1;36m10\u001b[0m\u001b[1;33m+\u001b[0m\u001b[1;36m8\u001b[0m\u001b[1;33m)\u001b[0m\u001b[1;33m*\u001b[0m\u001b[1;33m(\u001b[0m\u001b[1;36m10\u001b[0m\u001b[1;33m-\u001b[0m\u001b[1;36m4\u001b[0m\u001b[1;33m)\u001b[0m\u001b[1;33m-\u001b[0m\u001b[1;36m1\u001b[0m\u001b[1;33m)\u001b[0m\u001b[1;33m\u001b[0m\u001b[1;33m\u001b[0m\u001b[0m\n\u001b[1;32m---> 11\u001b[1;33m \u001b[0mprint\u001b[0m\u001b[1;33m(\u001b[0m\u001b[1;33m(\u001b[0m\u001b[1;33m(\u001b[0m\u001b[1;36m1500\u001b[0m\u001b[1;33m+\u001b[0m\u001b[1;33m(\u001b[0m\u001b[1;33m(\u001b[0m\u001b[1;36m100\u001b[0m\u001b[1;33m-\u001b[0m\u001b[1;36m9\u001b[0m\u001b[1;33m)\u001b[0m\u001b[1;33m/\u001b[0m\u001b[1;36m10\u001b[0m\u001b[1;33m)\u001b[0m\u001b[1;33m)\u001b[0m\u001b[1;33m*\u001b[0m\u001b[1;36m9\u001b[0m\u001b[1;33m)\u001b[0m\u001b[1;33m^\u001b[0m\u001b[1;36m3\u001b[0m\u001b[1;33m)\u001b[0m\u001b[1;33m\u001b[0m\u001b[1;33m\u001b[0m\u001b[0m\n\u001b[0m",
            "\u001b[1;31mTypeError\u001b[0m: unsupported operand type(s) for ^: 'float' and 'int'"
          ]
        }
      ],
      "source": [
        "#somar 10 + 20 x 30\n",
        "#dividir 42/30\n",
        "#soma entre parênteses e multiplicação e depois subtração\n",
        "#multiplicação entre parênteses com a subtração por 1\n",
        "#subtração com resultado sendo dividido por 10 e sendo somado com 1500 e multiplicado com 9 e sendo elevado ao cubo\n",
        "\n",
        "print(10+20 * 30)\n",
        "print(42/30)\n",
        "print((94+2)*6-1)\n",
        "print((10+8)*(10-4)-1)\n",
        "print(((1500+((100-9)/10))*9)^3)"
      ]
    },
    {
      "cell_type": "code",
      "execution_count": null,
      "id": "62d7fbbf",
      "metadata": {
        "id": "62d7fbbf",
        "outputId": "c91cdef6-a6f3-4243-924c-fdebdbf04d99"
      },
      "outputs": [
        {
          "name": "stdout",
          "output_type": "stream",
          "text": [
            "610\n",
            "1.4\n",
            "575\n",
            "107\n",
            "2505426032558.259\n"
          ]
        }
      ],
      "source": [
        "#somar 10 + 20 x 30\n",
        "#dividir 42/30\n",
        "#soma entre parênteses e multiplicação e depois subtração\n",
        "#multiplicação entre parênteses com a subtração por 1\n",
        "#subtração com resultado sendo dividido por 10 e sendo somado com 1500 e multiplicado com 9 e sendo elevado ao cubo\n",
        "\n",
        "print(10+20 * 30)\n",
        "print(42/30)\n",
        "print((94+2)*6-1)\n",
        "print((10+8)*(10-4)-1)\n",
        "print(((1500+((100-9)/10))*9)**3)"
      ]
    },
    {
      "cell_type": "code",
      "execution_count": null,
      "id": "12476c7c",
      "metadata": {
        "id": "12476c7c"
      },
      "outputs": [],
      "source": [
        ""
      ]
    }
  ],
  "metadata": {
    "kernelspec": {
      "display_name": "Python 3 (ipykernel)",
      "language": "python",
      "name": "python3"
    },
    "language_info": {
      "codemirror_mode": {
        "name": "ipython",
        "version": 3
      },
      "file_extension": ".py",
      "mimetype": "text/x-python",
      "name": "python",
      "nbconvert_exporter": "python",
      "pygments_lexer": "ipython3",
      "version": "3.9.7"
    },
    "colab": {
      "name": "exercicio-5.1.ipynb",
      "provenance": [],
      "include_colab_link": true
    }
  },
  "nbformat": 4,
  "nbformat_minor": 5
}